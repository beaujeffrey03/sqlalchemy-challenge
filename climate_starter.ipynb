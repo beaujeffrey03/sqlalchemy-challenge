{
 "cells": [
  {
   "cell_type": "code",
   "execution_count": 1,
   "metadata": {},
   "outputs": [],
   "source": [
    "%matplotlib inline\n",
    "from matplotlib import style\n",
    "style.use('fivethirtyeight')\n",
    "import matplotlib.pyplot as plt"
   ]
  },
  {
   "cell_type": "code",
   "execution_count": 2,
   "metadata": {},
   "outputs": [],
   "source": [
    "import numpy as np\n",
    "import pandas as pd\n",
    "import datetime as dt"
   ]
  },
  {
   "cell_type": "markdown",
   "metadata": {},
   "source": [
    "# Reflect Tables into SQLAlchemy ORM"
   ]
  },
  {
   "cell_type": "code",
   "execution_count": 3,
   "metadata": {},
   "outputs": [],
   "source": [
    "# Python SQL toolkit and Object Relational Mapper\n",
    "import sqlalchemy\n",
    "from sqlalchemy.ext.automap import automap_base\n",
    "from sqlalchemy.orm import Session\n",
    "from sqlalchemy import create_engine, func, inspect, desc"
   ]
  },
  {
   "cell_type": "code",
   "execution_count": 4,
   "metadata": {},
   "outputs": [],
   "source": [
    "# create engine to hawaii.sqlite\n",
    "engine = create_engine(\"sqlite:///hawaii.sqlite\")"
   ]
  },
  {
   "cell_type": "code",
   "execution_count": 5,
   "metadata": {},
   "outputs": [],
   "source": [
    "# reflect an existing database into a new model\n",
    "Base = automap_base()\n",
    "\n",
    "# reflect the tables\n",
    "Base.prepare(engine, reflect=True)"
   ]
  },
  {
   "cell_type": "code",
   "execution_count": 6,
   "metadata": {},
   "outputs": [
    {
     "data": {
      "text/plain": [
       "['measurement', 'station']"
      ]
     },
     "execution_count": 6,
     "metadata": {},
     "output_type": "execute_result"
    }
   ],
   "source": [
    "# View all of the classes that automap found\n",
    "Base.classes.keys()"
   ]
  },
  {
   "cell_type": "code",
   "execution_count": 7,
   "metadata": {},
   "outputs": [],
   "source": [
    "# Save references to each table\n",
    "measurement = Base.classes.measurement\n",
    "station = Base.classes.station"
   ]
  },
  {
   "cell_type": "code",
   "execution_count": 8,
   "metadata": {},
   "outputs": [],
   "source": [
    "# Create our session (link) from Python to the DB\n",
    "session = Session(engine)\n",
    "inspector = inspect(engine)"
   ]
  },
  {
   "cell_type": "markdown",
   "metadata": {},
   "source": [
    "# Exploratory Precipitation Analysis"
   ]
  },
  {
   "cell_type": "code",
   "execution_count": 9,
   "metadata": {},
   "outputs": [
    {
     "data": {
      "text/plain": [
       "[(1, 'USC00519397', '2010-01-01', 0.08, 65.0),\n",
       " (2, 'USC00519397', '2010-01-02', 0.0, 63.0),\n",
       " (3, 'USC00519397', '2010-01-03', 0.0, 74.0),\n",
       " (4, 'USC00519397', '2010-01-04', 0.0, 76.0),\n",
       " (5, 'USC00519397', '2010-01-06', None, 73.0)]"
      ]
     },
     "execution_count": 9,
     "metadata": {},
     "output_type": "execute_result"
    }
   ],
   "source": [
    "# Look at first 5 rows from measurement table\n",
    "engine.execute('select * from measurement limit 5').fetchall()"
   ]
  },
  {
   "cell_type": "code",
   "execution_count": 10,
   "metadata": {},
   "outputs": [
    {
     "name": "stdout",
     "output_type": "stream",
     "text": [
      "id INTEGER\n",
      "station TEXT\n",
      "date TEXT\n",
      "prcp FLOAT\n",
      "tobs FLOAT\n"
     ]
    }
   ],
   "source": [
    "# inspect data types in measurement\n",
    "measurement_columns = inspector.get_columns('measurement')\n",
    "for column in measurement_columns:\n",
    "    print(column[\"name\"], column[\"type\"])"
   ]
  },
  {
   "cell_type": "code",
   "execution_count": 11,
   "metadata": {},
   "outputs": [
    {
     "data": {
      "text/html": [
       "<div>\n",
       "<style scoped>\n",
       "    .dataframe tbody tr th:only-of-type {\n",
       "        vertical-align: middle;\n",
       "    }\n",
       "\n",
       "    .dataframe tbody tr th {\n",
       "        vertical-align: top;\n",
       "    }\n",
       "\n",
       "    .dataframe thead th {\n",
       "        text-align: right;\n",
       "    }\n",
       "</style>\n",
       "<table border=\"1\" class=\"dataframe\">\n",
       "  <thead>\n",
       "    <tr style=\"text-align: right;\">\n",
       "      <th></th>\n",
       "      <th>Precipitation</th>\n",
       "    </tr>\n",
       "    <tr>\n",
       "      <th>Date</th>\n",
       "      <th></th>\n",
       "    </tr>\n",
       "  </thead>\n",
       "  <tbody>\n",
       "    <tr>\n",
       "      <th>2016-08-23</th>\n",
       "      <td>1.79</td>\n",
       "    </tr>\n",
       "    <tr>\n",
       "      <th>2016-08-24</th>\n",
       "      <td>2.28</td>\n",
       "    </tr>\n",
       "    <tr>\n",
       "      <th>2016-08-25</th>\n",
       "      <td>0.21</td>\n",
       "    </tr>\n",
       "    <tr>\n",
       "      <th>2016-08-26</th>\n",
       "      <td>0.04</td>\n",
       "    </tr>\n",
       "    <tr>\n",
       "      <th>2016-08-27</th>\n",
       "      <td>0.18</td>\n",
       "    </tr>\n",
       "    <tr>\n",
       "      <th>...</th>\n",
       "      <td>...</td>\n",
       "    </tr>\n",
       "    <tr>\n",
       "      <th>2017-08-19</th>\n",
       "      <td>0.09</td>\n",
       "    </tr>\n",
       "    <tr>\n",
       "      <th>2017-08-20</th>\n",
       "      <td>0.01</td>\n",
       "    </tr>\n",
       "    <tr>\n",
       "      <th>2017-08-21</th>\n",
       "      <td>0.56</td>\n",
       "    </tr>\n",
       "    <tr>\n",
       "      <th>2017-08-22</th>\n",
       "      <td>0.50</td>\n",
       "    </tr>\n",
       "    <tr>\n",
       "      <th>2017-08-23</th>\n",
       "      <td>0.45</td>\n",
       "    </tr>\n",
       "  </tbody>\n",
       "</table>\n",
       "<p>366 rows × 1 columns</p>\n",
       "</div>"
      ],
      "text/plain": [
       "            Precipitation\n",
       "Date                     \n",
       "2016-08-23           1.79\n",
       "2016-08-24           2.28\n",
       "2016-08-25           0.21\n",
       "2016-08-26           0.04\n",
       "2016-08-27           0.18\n",
       "...                   ...\n",
       "2017-08-19           0.09\n",
       "2017-08-20           0.01\n",
       "2017-08-21           0.56\n",
       "2017-08-22           0.50\n",
       "2017-08-23           0.45\n",
       "\n",
       "[366 rows x 1 columns]"
      ]
     },
     "execution_count": 11,
     "metadata": {},
     "output_type": "execute_result"
    }
   ],
   "source": [
    "last_date = session.query(measurement.date).\\\n",
    "            order_by(measurement.date.desc()).\\\n",
    "            first()\n",
    "\n",
    "last_date = last_date[0]\n",
    "last_date = last_date.split('-')\n",
    "\n",
    "first_date = dt.date(int(last_date[0]),\n",
    "                         int(last_date[1]),\n",
    "                         int(last_date[2])) - dt.timedelta(days=365)\n",
    "\n",
    "measurement_results = session.query(measurement.date,\n",
    "                                    func.max(measurement.prcp)).\\\n",
    "                                    filter(measurement.date >= first_date).\\\n",
    "                                    group_by(measurement.date).\\\n",
    "                                    order_by(measurement.date.asc()).all()\n",
    "\n",
    "precip_df = pd.DataFrame(measurement_results, columns=['date', 'prcp'])\n",
    "precip_df = precip_df.rename(columns={'prcp': 'Precipitation', 'date': 'Date'})\n",
    "precip_df.set_index('Date', inplace=True)\n",
    "precip_df = precip_df.dropna()\n",
    "precip_df"
   ]
  },
  {
   "cell_type": "code",
   "execution_count": 12,
   "metadata": {},
   "outputs": [
    {
     "name": "stdout",
     "output_type": "stream",
     "text": [
      "08/23/2017\n",
      "08/23/2016\n"
     ]
    }
   ],
   "source": [
    "fmtd_last_date = dt.date(int(last_date[0]), int(last_date[1]), int(last_date[2]))\n",
    "fmtd_last_date = fmtd_last_date.strftime('%m/%d/%Y')\n",
    "\n",
    "fmtd_first_date = first_date.strftime('%m/%d/%Y')\n",
    "\n",
    "print(fmtd_last_date)\n",
    "print(fmtd_first_date)"
   ]
  },
  {
   "cell_type": "code",
   "execution_count": 13,
   "metadata": {},
   "outputs": [
    {
     "data": {
      "image/png": "[encoded data removed]",
      "text/plain": [
       "<Figure size 864x504 with 1 Axes>"
      ]
     },
     "metadata": {},
     "output_type": "display_data"
    }
   ],
   "source": [
    "# Use Pandas Plotting with Matplotlib to plot the data\n",
    "plt.rcParams['figure.figsize']=(12,7)\n",
    "precip_df.plot.area(linewidth=1, xticks=(0, 60, 120, 180, 240, 300, 365))\n",
    "plt.title(f'Daily Max Precipitation in Hawaii \\n {fmtd_first_date} - {fmtd_last_date}', fontsize=18)\n",
    "plt.xlabel('Date', fontsize=16)\n",
    "plt.ylabel('Inches', fontsize=16)\n",
    "plt.show()"
   ]
  },
  {
   "cell_type": "code",
   "execution_count": 14,
   "metadata": {},
   "outputs": [
    {
     "data": {
      "text/html": [
       "<div>\n",
       "<style scoped>\n",
       "    .dataframe tbody tr th:only-of-type {\n",
       "        vertical-align: middle;\n",
       "    }\n",
       "\n",
       "    .dataframe tbody tr th {\n",
       "        vertical-align: top;\n",
       "    }\n",
       "\n",
       "    .dataframe thead th {\n",
       "        text-align: right;\n",
       "    }\n",
       "</style>\n",
       "<table border=\"1\" class=\"dataframe\">\n",
       "  <thead>\n",
       "    <tr style=\"text-align: right;\">\n",
       "      <th></th>\n",
       "      <th>Precipitation</th>\n",
       "    </tr>\n",
       "  </thead>\n",
       "  <tbody>\n",
       "    <tr>\n",
       "      <th>count</th>\n",
       "      <td>366.000000</td>\n",
       "    </tr>\n",
       "    <tr>\n",
       "      <th>mean</th>\n",
       "      <td>0.520765</td>\n",
       "    </tr>\n",
       "    <tr>\n",
       "      <th>std</th>\n",
       "      <td>0.830728</td>\n",
       "    </tr>\n",
       "    <tr>\n",
       "      <th>min</th>\n",
       "      <td>0.000000</td>\n",
       "    </tr>\n",
       "    <tr>\n",
       "      <th>25%</th>\n",
       "      <td>0.040000</td>\n",
       "    </tr>\n",
       "    <tr>\n",
       "      <th>50%</th>\n",
       "      <td>0.250000</td>\n",
       "    </tr>\n",
       "    <tr>\n",
       "      <th>75%</th>\n",
       "      <td>0.672500</td>\n",
       "    </tr>\n",
       "    <tr>\n",
       "      <th>max</th>\n",
       "      <td>6.700000</td>\n",
       "    </tr>\n",
       "  </tbody>\n",
       "</table>\n",
       "</div>"
      ],
      "text/plain": [
       "       Precipitation\n",
       "count     366.000000\n",
       "mean        0.520765\n",
       "std         0.830728\n",
       "min         0.000000\n",
       "25%         0.040000\n",
       "50%         0.250000\n",
       "75%         0.672500\n",
       "max         6.700000"
      ]
     },
     "execution_count": 14,
     "metadata": {},
     "output_type": "execute_result"
    }
   ],
   "source": [
    "# Use Pandas to calcualte the summary statistics for the precipitation data\n",
    "precip_df.describe()"
   ]
  },
  {
   "cell_type": "markdown",
   "metadata": {},
   "source": [
    "# Exploratory Station Analysis"
   ]
  },
  {
   "cell_type": "code",
   "execution_count": 15,
   "metadata": {},
   "outputs": [
    {
     "name": "stdout",
     "output_type": "stream",
     "text": [
      "There are 9 stations in the dataset.\n"
     ]
    }
   ],
   "source": [
    "# Design a query to calculate the total number stations in the dataset\n",
    "station_count = session.query(func.count(measurement.id),\n",
    "                              measurement.station).\\\n",
    "                              group_by(measurement.station).\\\n",
    "                              order_by(measurement.id.desc()).count()\n",
    "\n",
    "print(f'There are {station_count} stations in the dataset.')"
   ]
  },
  {
   "cell_type": "code",
   "execution_count": 16,
   "metadata": {},
   "outputs": [
    {
     "name": "stdout",
     "output_type": "stream",
     "text": [
      "Most active stations, descending order:\n"
     ]
    },
    {
     "data": {
      "text/plain": [
       "[(2772, 'USC00519281'),\n",
       " (2724, 'USC00519397'),\n",
       " (2709, 'USC00513117'),\n",
       " (2669, 'USC00519523'),\n",
       " (2612, 'USC00516128'),\n",
       " (2202, 'USC00514830'),\n",
       " (1979, 'USC00511918'),\n",
       " (1372, 'USC00517948'),\n",
       " (511, 'USC00518838')]"
      ]
     },
     "execution_count": 16,
     "metadata": {},
     "output_type": "execute_result"
    }
   ],
   "source": [
    "# Design a query to find the most active stations (i.e. what stations have the most rows?)\n",
    "station_freq = session.query(func.count(measurement.tobs), measurement.station).\\\n",
    "                group_by(measurement.station).\\\n",
    "                order_by(desc(func.count(measurement.tobs))).all()\n",
    "\n",
    "print('Most active stations, descending order:')\n",
    "station_freq"
   ]
  },
  {
   "cell_type": "code",
   "execution_count": 17,
   "metadata": {},
   "outputs": [
    {
     "name": "stdout",
     "output_type": "stream",
     "text": [
      "The most active station is station USC00519281.\n"
     ]
    }
   ],
   "source": [
    "most_active_station = station_freq[0][1]\n",
    "\n",
    "print(f'The most active station is station {most_active_station}.')"
   ]
  },
  {
   "cell_type": "code",
   "execution_count": 18,
   "metadata": {},
   "outputs": [
    {
     "name": "stdout",
     "output_type": "stream",
     "text": [
      "USC00519281 High Temp: 85.0 degrees farenheit.\n",
      "USC00519281 Low Temp: 54.0 degrees farenheit.\n",
      "USC00519281 Average Temp: 71.66 degrees farenheit.\n"
     ]
    }
   ],
   "source": [
    "# Using the most active station id from the previous query, calculate the lowest, highest, and average temperature.\n",
    "# Highest\n",
    "max_temp = session.query(func.max(measurement.tobs)).\\\n",
    "                        filter(measurement.station == most_active_station).first()\n",
    "max_temp = max_temp[0]\n",
    "print(f'{most_active_station} High Temp: {max_temp} degrees farenheit.')\n",
    "\n",
    "# Lowest\n",
    "min_temp = session.query(func.min(measurement.tobs)).\\\n",
    "                        filter(measurement.station == most_active_station).first()\n",
    "min_temp = min_temp[0]\n",
    "print(f'{most_active_station} Low Temp: {min_temp} degrees farenheit.')\n",
    "\n",
    "# Average\n",
    "avg_temp = session.query(func.avg(measurement.tobs)).\\\n",
    "                        filter(measurement.station == most_active_station).first()\n",
    "avg_temp = avg_temp[0]\n",
    "print(f'{most_active_station} Average Temp: {round(avg_temp, 2)} degrees farenheit.')"
   ]
  },
  {
   "cell_type": "code",
   "execution_count": 19,
   "metadata": {},
   "outputs": [
    {
     "data": {
      "text/html": [
       "<div>\n",
       "<style scoped>\n",
       "    .dataframe tbody tr th:only-of-type {\n",
       "        vertical-align: middle;\n",
       "    }\n",
       "\n",
       "    .dataframe tbody tr th {\n",
       "        vertical-align: top;\n",
       "    }\n",
       "\n",
       "    .dataframe thead th {\n",
       "        text-align: right;\n",
       "    }\n",
       "</style>\n",
       "<table border=\"1\" class=\"dataframe\">\n",
       "  <thead>\n",
       "    <tr style=\"text-align: right;\">\n",
       "      <th></th>\n",
       "      <th>Temp. Observation</th>\n",
       "    </tr>\n",
       "    <tr>\n",
       "      <th>Date</th>\n",
       "      <th></th>\n",
       "    </tr>\n",
       "  </thead>\n",
       "  <tbody>\n",
       "    <tr>\n",
       "      <th>2016-08-18</th>\n",
       "      <td>80.0</td>\n",
       "    </tr>\n",
       "    <tr>\n",
       "      <th>2016-08-19</th>\n",
       "      <td>79.0</td>\n",
       "    </tr>\n",
       "    <tr>\n",
       "      <th>2016-08-20</th>\n",
       "      <td>81.0</td>\n",
       "    </tr>\n",
       "    <tr>\n",
       "      <th>2016-08-21</th>\n",
       "      <td>79.0</td>\n",
       "    </tr>\n",
       "    <tr>\n",
       "      <th>2016-08-22</th>\n",
       "      <td>78.0</td>\n",
       "    </tr>\n",
       "  </tbody>\n",
       "</table>\n",
       "</div>"
      ],
      "text/plain": [
       "            Temp. Observation\n",
       "Date                         \n",
       "2016-08-18               80.0\n",
       "2016-08-19               79.0\n",
       "2016-08-20               81.0\n",
       "2016-08-21               79.0\n",
       "2016-08-22               78.0"
      ]
     },
     "execution_count": 19,
     "metadata": {},
     "output_type": "execute_result"
    }
   ],
   "source": [
    "# Using the most active station id\n",
    "# Query the last 12 months of temperature observation data for this station and plot the results as a histogram\n",
    "active_last_date = session.query(measurement.date).\\\n",
    "                    order_by(measurement.date.desc()).\\\n",
    "                    filter(measurement.station == most_active_station).\\\n",
    "                    first()\n",
    "\n",
    "active_last_date\n",
    "active_last_date = active_last_date[0]\n",
    "active_last_date = active_last_date.split('-')\n",
    "\n",
    "active_first_date = dt.date(int(active_last_date[0]),\n",
    "                         int(active_last_date[1]),\n",
    "                         int(active_last_date[2])) - dt.timedelta(days=365)\n",
    "\n",
    "active_measurement_results = session.query(measurement.date, measurement.tobs).\\\n",
    "                                        filter(measurement.date >= active_first_date).\\\n",
    "                                        filter(measurement.station == most_active_station)\n",
    "\n",
    "tobs_df = pd.DataFrame(active_measurement_results, columns=['date', 'tobs'])\n",
    "tobs_df = tobs_df.rename(columns={'date': 'Date', 'tobs': 'Temp. Observation'})\n",
    "tobs_df.set_index('Date', inplace=True)\n",
    "tobs_df = tobs_df.dropna()\n",
    "tobs_df.head()"
   ]
  },
  {
   "cell_type": "code",
   "execution_count": 20,
   "metadata": {},
   "outputs": [
    {
     "data": {
      "image/png": "[encoded data removed]",
      "text/plain": [
       "<Figure size 864x504 with 1 Axes>"
      ]
     },
     "metadata": {},
     "output_type": "display_data"
    }
   ],
   "source": [
    "# Make histogram\n",
    "tobs_x = tobs_df['Temp. Observation']\n",
    "\n",
    "# Histogram labels\n",
    "fmtd_last_active_date = dt.date(int(active_last_date[0]), int(active_last_date[1]), int(active_last_date[2]))\n",
    "fmtd_last_active_date = fmtd_last_active_date.strftime('%m/%d/%Y')\n",
    "\n",
    "fmtd_active_first_date = first_date.strftime('%m/%d/%Y')\n",
    "\n",
    "plt.rcParams['figure.figsize']=(12,7)\n",
    "plt.hist(tobs_x, bins=12)\n",
    "plt.tick_params(axis='both', which='major', labelsize=12)\n",
    "plt.xlabel('Temperature', size=16)\n",
    "plt.ylabel('Frequency', size=16)\n",
    "plt.title(f'Temperature Observation Data, Station {most_active_station} \\n {fmtd_active_first_date} - {fmtd_last_active_date}',\\\n",
    "          size=18)\n",
    "plt.show()"
   ]
  },
  {
   "cell_type": "markdown",
   "metadata": {},
   "source": [
    "# Close session"
   ]
  },
  {
   "cell_type": "code",
   "execution_count": 21,
   "metadata": {},
   "outputs": [],
   "source": [
    "# Close Session\n",
    "session.close()"
   ]
  }
 ],
 "metadata": {
  "anaconda-cloud": {},
  "kernel_info": {
   "name": "python3"
  },
  "kernelspec": {
   "display_name": "Python 3",
   "language": "python",
   "name": "python3"
  },
  "language_info": {
   "codemirror_mode": {
    "name": "ipython",
    "version": 3
   },
   "file_extension": ".py",
   "mimetype": "text/x-python",
   "name": "python",
   "nbconvert_exporter": "python",
   "pygments_lexer": "ipython3",
   "version": "3.6.10"
  },
  "nteract": {
   "version": "0.12.3"
  },
  "varInspector": {
   "cols": {
    "lenName": 16,
    "lenType": 16,
    "lenVar": 40
   },
   "kernels_config": {
    "python": {
     "delete_cmd_postfix": "",
     "delete_cmd_prefix": "del ",
     "library": "var_list.py",
     "varRefreshCmd": "print(var_dic_list())"
    },
    "r": {
     "delete_cmd_postfix": ") ",
     "delete_cmd_prefix": "rm(",
     "library": "var_list.r",
     "varRefreshCmd": "cat(var_dic_list()) "
    }
   },
   "types_to_exclude": [
    "module",
    "function",
    "builtin_function_or_method",
    "instance",
    "_Feature"
   ],
   "window_display": false
  }
 },
 "nbformat": 4,
 "nbformat_minor": 2
}
